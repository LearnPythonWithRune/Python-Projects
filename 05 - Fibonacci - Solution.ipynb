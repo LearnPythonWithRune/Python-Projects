{
 "cells": [
  {
   "cell_type": "markdown",
   "id": "696294e9",
   "metadata": {},
   "source": [
    "# Fibonacci\n",
    "\n",
    "The Fibonacci sequence is as follows.\n",
    "\n",
    "`0 1 1 2 3 5 8 13 21 34 ...` (continues)\n",
    "\n",
    "It is generated as follows.\n",
    "\n",
    "The next number is genrated by adding the two last numbers.\n",
    "\n",
    "```\n",
    "0 + 1 = 1\n",
    "1 + 1 = 2\n",
    "1 + 2 = 3\n",
    "2 + 3 = 5\n",
    "3 + 5 = 8\n",
    "8 + 13 = 21\n",
    "13 + 21 = 34\n",
    "21 + 34 = 55\n",
    "...\n",
    "```\n",
    "\n",
    "Write a program that prints the Fibonacci sequence."
   ]
  },
  {
   "cell_type": "code",
   "execution_count": 1,
   "id": "87d89dc8",
   "metadata": {},
   "outputs": [],
   "source": [
    "def fib(n):\n",
    "    if n <= 1:\n",
    "        return n\n",
    "    \n",
    "    i = 0\n",
    "    j = 1\n",
    "    \n",
    "    for _ in range(n):\n",
    "        i, j = j, i + j\n",
    "        \n",
    "    return i"
   ]
  },
  {
   "cell_type": "code",
   "execution_count": 2,
   "id": "766c6dfa",
   "metadata": {},
   "outputs": [
    {
     "name": "stdout",
     "output_type": "stream",
     "text": [
      "0\n",
      "1\n",
      "1\n",
      "2\n",
      "3\n",
      "5\n",
      "8\n",
      "13\n",
      "21\n",
      "34\n"
     ]
    }
   ],
   "source": [
    "for i in range(10):\n",
    "    print(fib(i))"
   ]
  },
  {
   "cell_type": "code",
   "execution_count": 3,
   "id": "a708c2e9",
   "metadata": {},
   "outputs": [],
   "source": [
    "def fib(n):  # n = 3\n",
    "    if n <= 1:\n",
    "        return n\n",
    "\n",
    "    return fib(n - 1) + fib(n - 2)  # fib(2) + fib(1) = fib(1) + fib(0) + fib(1) = 1 + 0 + 1 = 2"
   ]
  },
  {
   "cell_type": "code",
   "execution_count": 5,
   "id": "5fbc930f",
   "metadata": {},
   "outputs": [
    {
     "data": {
      "text/plain": [
       "2"
      ]
     },
     "execution_count": 5,
     "metadata": {},
     "output_type": "execute_result"
    }
   ],
   "source": [
    "fib(3)"
   ]
  },
  {
   "cell_type": "code",
   "execution_count": 7,
   "id": "d2107929",
   "metadata": {},
   "outputs": [
    {
     "name": "stdout",
     "output_type": "stream",
     "text": [
      "0\n",
      "1\n",
      "1\n",
      "2\n",
      "3\n",
      "5\n",
      "8\n",
      "13\n",
      "21\n",
      "34\n"
     ]
    }
   ],
   "source": [
    "for i in range(10):\n",
    "    print(fib(i))"
   ]
  },
  {
   "cell_type": "code",
   "execution_count": null,
   "id": "4c5b0cdd",
   "metadata": {},
   "outputs": [],
   "source": []
  }
 ],
 "metadata": {
  "kernelspec": {
   "display_name": "Python 3 (ipykernel)",
   "language": "python",
   "name": "python3"
  },
  "language_info": {
   "codemirror_mode": {
    "name": "ipython",
    "version": 3
   },
   "file_extension": ".py",
   "mimetype": "text/x-python",
   "name": "python",
   "nbconvert_exporter": "python",
   "pygments_lexer": "ipython3",
   "version": "3.9.13"
  }
 },
 "nbformat": 4,
 "nbformat_minor": 5
}
