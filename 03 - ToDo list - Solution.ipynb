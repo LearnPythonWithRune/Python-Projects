{
 "cells": [
  {
   "cell_type": "markdown",
   "id": "5240d3df",
   "metadata": {},
   "source": [
    "# Project: ToDo list\n",
    "\n",
    "### Description\n",
    "\n",
    "The program you write can do 4 things.\n",
    "1. It can show the content of your ToDo list\n",
    "2. It can add an item to your ToDo list\n",
    "3. It can remove an item from your ToDo list\n",
    "4. It can quit the program"
   ]
  },
  {
   "cell_type": "code",
   "execution_count": 8,
   "id": "7e61562c",
   "metadata": {},
   "outputs": [
    {
     "name": "stdout",
     "output_type": "stream",
     "text": [
      "1: Show content\n",
      "2: Add an item to list\n",
      "3: Remove an item from the list\n",
      "4: Quit\n",
      "Choose option: 2\n",
      "Add item to list: Hello world\n",
      "1: Show content\n",
      "2: Add an item to list\n",
      "3: Remove an item from the list\n",
      "4: Quit\n",
      "Choose option: 2\n",
      "Add item to list: hello again\n",
      "1: Show content\n",
      "2: Add an item to list\n",
      "3: Remove an item from the list\n",
      "4: Quit\n",
      "Choose option: 1\n",
      "0 Hello world\n",
      "1 hello again\n",
      "1: Show content\n",
      "2: Add an item to list\n",
      "3: Remove an item from the list\n",
      "4: Quit\n",
      "Choose option: 3\n",
      "What item to remove (use index): 0\n",
      "1: Show content\n",
      "2: Add an item to list\n",
      "3: Remove an item from the list\n",
      "4: Quit\n",
      "Choose option: 1\n",
      "0 hello again\n",
      "1: Show content\n",
      "2: Add an item to list\n",
      "3: Remove an item from the list\n",
      "4: Quit\n",
      "Choose option: 4\n",
      "Goodbye\n"
     ]
    }
   ],
   "source": [
    "todo = []\n",
    "\n",
    "while True:\n",
    "    # print the options to the user\n",
    "    print('1: Show content')\n",
    "    print('2: Add an item to list')\n",
    "    print('3: Remove an item from the list')\n",
    "    print('4: Quit')\n",
    "    # prompt the user\n",
    "    option = input('Choose option: ')\n",
    "    \n",
    "    if option == '1':\n",
    "        for idx, item in enumerate(todo):\n",
    "            print(idx, item)\n",
    "    elif option == '2':\n",
    "        item = input('Add item to list: ')\n",
    "        todo.append(item)\n",
    "    elif option == '3':\n",
    "        idx_str = input('What item to remove (use index): ')\n",
    "        idx = int(idx_str)\n",
    "        todo.pop(idx)\n",
    "    elif option == '4':\n",
    "        print('Goodbye')\n",
    "        break\n",
    "    else:\n",
    "        print('Not understood')"
   ]
  },
  {
   "cell_type": "code",
   "execution_count": 5,
   "id": "609ceeee",
   "metadata": {},
   "outputs": [
    {
     "data": {
      "text/plain": [
       "['Hello World', 'Hello again']"
      ]
     },
     "execution_count": 5,
     "metadata": {},
     "output_type": "execute_result"
    }
   ],
   "source": [
    "todo"
   ]
  },
  {
   "cell_type": "code",
   "execution_count": null,
   "id": "a29475aa",
   "metadata": {},
   "outputs": [],
   "source": []
  }
 ],
 "metadata": {
  "kernelspec": {
   "display_name": "Python 3 (ipykernel)",
   "language": "python",
   "name": "python3"
  },
  "language_info": {
   "codemirror_mode": {
    "name": "ipython",
    "version": 3
   },
   "file_extension": ".py",
   "mimetype": "text/x-python",
   "name": "python",
   "nbconvert_exporter": "python",
   "pygments_lexer": "ipython3",
   "version": "3.9.13"
  }
 },
 "nbformat": 4,
 "nbformat_minor": 5
}
