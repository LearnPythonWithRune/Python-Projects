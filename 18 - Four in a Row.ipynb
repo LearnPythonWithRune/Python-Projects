{
 "cells": [
  {
   "cell_type": "markdown",
   "id": "eebb1e84",
   "metadata": {},
   "source": [
    "# Four in a Row\n",
    "\n",
    "\n",
    "This is a tile-dropping board game for two players.\n",
    "\n",
    "* The goal is to get four of your tiles in a row horizontally, vertically, or diagonally, while preventing your opponent from doing the same.\n",
    "\n",
    "#### Example\n",
    "\n",
    "```\n",
    " 0123456\n",
    "+-------+\n",
    "|·······|\n",
    "|·······|\n",
    "|O·XX···|\n",
    "|XOOOX··|\n",
    "|OXOXX··|\n",
    "|OXOOOX·|\n",
    "+-------+\n",
    "```"
   ]
  },
  {
   "cell_type": "code",
   "execution_count": 7,
   "id": "4d471522",
   "metadata": {},
   "outputs": [],
   "source": [
    "empty = '·'\n",
    "board = [[empty]*7 for _ in range(6)]"
   ]
  },
  {
   "cell_type": "code",
   "execution_count": 8,
   "id": "085f3e06",
   "metadata": {},
   "outputs": [
    {
     "data": {
      "text/plain": [
       "[['·', '·', '·', '·', '·', '·', '·'],\n",
       " ['·', '·', '·', '·', '·', '·', '·'],\n",
       " ['·', '·', '·', '·', '·', '·', '·'],\n",
       " ['·', '·', '·', '·', '·', '·', '·'],\n",
       " ['·', '·', '·', '·', '·', '·', '·'],\n",
       " ['·', '·', '·', '·', '·', '·', '·']]"
      ]
     },
     "execution_count": 8,
     "metadata": {},
     "output_type": "execute_result"
    }
   ],
   "source": [
    "board"
   ]
  },
  {
   "cell_type": "code",
   "execution_count": 44,
   "id": "dc99963e",
   "metadata": {},
   "outputs": [],
   "source": [
    "from IPython.display import clear_output\n",
    "\n",
    "def display_board(board):\n",
    "    clear_output()\n",
    "    print(' 0123456')\n",
    "    print('+' + '-'*7 + '+')\n",
    "    for row in board:\n",
    "        print('|', end='')\n",
    "        for col in row:\n",
    "            print(col, end='')\n",
    "        print('|')\n",
    "    print('+' + '-'*7 + '+')\n",
    "        "
   ]
  },
  {
   "cell_type": "code",
   "execution_count": 12,
   "id": "0bdb91e1",
   "metadata": {},
   "outputs": [
    {
     "name": "stdout",
     "output_type": "stream",
     "text": [
      " 0123456\n",
      "+-------+\n",
      "|·······|\n",
      "|·······|\n",
      "|·······|\n",
      "|·······|\n",
      "|·······|\n",
      "|·······|\n",
      "+-------+\n"
     ]
    }
   ],
   "source": [
    "display_board(board)"
   ]
  },
  {
   "cell_type": "code",
   "execution_count": 64,
   "id": "5f69b057",
   "metadata": {},
   "outputs": [],
   "source": [
    "def valid_move(board, move):\n",
    "    if len(move) != 1:\n",
    "        return False\n",
    "    \n",
    "    if move not in '0123456':\n",
    "        return False\n",
    "    \n",
    "    if board[0][int(move)] == empty:\n",
    "        return True\n",
    "    \n",
    "    return False\n",
    "\n",
    "\n",
    "def get_player_move(board, marker):\n",
    "    while True:\n",
    "        print('Player:', marker)\n",
    "        move = input('Input move: ')\n",
    "        if valid_move(board, move):\n",
    "            return int(move)\n",
    "        print('Invalid move')"
   ]
  },
  {
   "cell_type": "code",
   "execution_count": 18,
   "id": "f3478e3a",
   "metadata": {},
   "outputs": [
    {
     "name": "stdout",
     "output_type": "stream",
     "text": [
      "Input move: 3\n"
     ]
    },
    {
     "data": {
      "text/plain": [
       "'3'"
      ]
     },
     "execution_count": 18,
     "metadata": {},
     "output_type": "execute_result"
    }
   ],
   "source": [
    "get_player_move(board)"
   ]
  },
  {
   "cell_type": "code",
   "execution_count": 31,
   "id": "9698d2e4",
   "metadata": {},
   "outputs": [],
   "source": [
    "def place_move(board, move, marker):\n",
    "    for row in board[::-1]:\n",
    "        if row[move] == empty:\n",
    "            row[move] = marker\n",
    "            \n",
    "            return board"
   ]
  },
  {
   "cell_type": "code",
   "execution_count": 40,
   "id": "7a4b0c20",
   "metadata": {},
   "outputs": [
    {
     "name": "stdout",
     "output_type": "stream",
     "text": [
      "bingo ['·', '·', '·', 'O', '·', '·', '·'] O\n"
     ]
    }
   ],
   "source": [
    "board= place_move(board, 3, 'O')"
   ]
  },
  {
   "cell_type": "code",
   "execution_count": 41,
   "id": "67db39a7",
   "metadata": {},
   "outputs": [
    {
     "data": {
      "text/plain": [
       "[['·', '·', '·', '·', '·', '·', '·'],\n",
       " ['·', '·', '·', 'O', '·', '·', '·'],\n",
       " ['·', '·', '·', 'O', '·', '·', '·'],\n",
       " ['·', '·', '·', 'O', '·', '·', '·'],\n",
       " ['·', '·', '·', 'O', '·', '·', '·'],\n",
       " ['·', '·', '·', 'O', '·', '·', '·']]"
      ]
     },
     "execution_count": 41,
     "metadata": {},
     "output_type": "execute_result"
    }
   ],
   "source": [
    "board"
   ]
  },
  {
   "cell_type": "code",
   "execution_count": 42,
   "id": "614c43bc",
   "metadata": {},
   "outputs": [],
   "source": [
    "def is_full(board):\n",
    "    for col in board[0]:\n",
    "        if col == empty:\n",
    "            return False\n",
    "    return True"
   ]
  },
  {
   "cell_type": "code",
   "execution_count": 60,
   "id": "2600d921",
   "metadata": {},
   "outputs": [],
   "source": [
    "def get_transpose(board):\n",
    "    transpose = []\n",
    "    \n",
    "    for i in range(len(board[0])):\n",
    "        col = []\n",
    "        for row in board:\n",
    "            col.append(row[i])\n",
    "    \n",
    "        transpose.append(col)\n",
    "    return transpose\n",
    "\n",
    "\n",
    "def four_in_row(board, marker):\n",
    "    for row in board:\n",
    "        row_str = ''.join(row)\n",
    "        if marker*4 in row_str:\n",
    "            return True\n",
    "    return False\n",
    "\n",
    "\n",
    "def game_won(board, marker):\n",
    "    # Check rows\n",
    "    if four_in_row(board, marker):\n",
    "        return True\n",
    "    \n",
    "    # Check columns\n",
    "    trans = get_transpose(board)\n",
    "    if four_in_row(trans, marker):\n",
    "        return True\n",
    "    \n",
    "    # Check diagonal\n",
    "    diag = []\n",
    "    for idx, row in enumerate(board):\n",
    "        diag.append([empty]*idx + row + [empty]*(6 - idx))\n",
    "    diag_t = get_transpose(diag)\n",
    "    if four_in_row(diag_t, marker):\n",
    "        return True\n",
    "    \n",
    "    diag = []\n",
    "    for idx, row in enumerate(board):\n",
    "        diag.append([empty]*(6 - idx) + row + [empty]*idx)\n",
    "    diag_t = get_transpose(diag)\n",
    "    if four_in_row(diag_t, marker):\n",
    "        return True\n",
    "\n",
    "    return False"
   ]
  },
  {
   "cell_type": "code",
   "execution_count": 65,
   "id": "25af5099",
   "metadata": {},
   "outputs": [
    {
     "name": "stdout",
     "output_type": "stream",
     "text": [
      " 0123456\n",
      "+-------+\n",
      "|·······|\n",
      "|·······|\n",
      "|O·XX···|\n",
      "|XOOOX··|\n",
      "|OXOXX··|\n",
      "|OXOOOX·|\n",
      "+-------+\n",
      "done O\n"
     ]
    }
   ],
   "source": [
    "empty = '·'\n",
    "board = [[empty]*7 for _ in range(6)]\n",
    "\n",
    "while True:\n",
    "    display_board(board)\n",
    "    move = get_player_move(board, 'O')\n",
    "    board = place_move(board, move, 'O')\n",
    "    if game_won(board, 'O') or is_full(board):\n",
    "        display_board(board)\n",
    "        print('done O')\n",
    "        break\n",
    "        \n",
    "    display_board(board)\n",
    "    move = get_player_move(board, 'X')\n",
    "    board = place_move(board, move, 'X')\n",
    "    if game_won(board, 'X') or is_full(board):\n",
    "        display_board(board)\n",
    "        print('done X')\n",
    "        break"
   ]
  },
  {
   "cell_type": "code",
   "execution_count": null,
   "id": "a429d1c1",
   "metadata": {},
   "outputs": [],
   "source": []
  }
 ],
 "metadata": {
  "kernelspec": {
   "display_name": "Python 3 (ipykernel)",
   "language": "python",
   "name": "python3"
  },
  "language_info": {
   "codemirror_mode": {
    "name": "ipython",
    "version": 3
   },
   "file_extension": ".py",
   "mimetype": "text/x-python",
   "name": "python",
   "nbconvert_exporter": "python",
   "pygments_lexer": "ipython3",
   "version": "3.9.13"
  }
 },
 "nbformat": 4,
 "nbformat_minor": 5
}
