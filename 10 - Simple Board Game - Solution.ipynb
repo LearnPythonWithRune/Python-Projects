{
 "cells": [
  {
   "cell_type": "markdown",
   "id": "80e1b2b1",
   "metadata": {},
   "source": [
    "# Simple Board Game\n",
    "\n",
    "\n",
    "Consider the following board.\n",
    "\n",
    "```\n",
    "-------------\n",
    "|O| | | | |X|\n",
    "-------------\n",
    "```\n",
    "\n",
    "The player is `O` and the goal is to not get hit by `X`\n",
    "\n",
    "The player can move either 1 or 2 moves to left or right, but only inside the board.\n",
    "\n",
    "The computer will make a similar move with `X`.\n",
    "\n",
    "If the player lands on `X` or if computer lands on `O` the player loses."
   ]
  },
  {
   "cell_type": "code",
   "execution_count": null,
   "id": "784c9bf1",
   "metadata": {},
   "outputs": [],
   "source": []
  }
 ],
 "metadata": {
  "kernelspec": {
   "display_name": "Python 3 (ipykernel)",
   "language": "python",
   "name": "python3"
  },
  "language_info": {
   "codemirror_mode": {
    "name": "ipython",
    "version": 3
   },
   "file_extension": ".py",
   "mimetype": "text/x-python",
   "name": "python",
   "nbconvert_exporter": "python",
   "pygments_lexer": "ipython3",
   "version": "3.9.13"
  }
 },
 "nbformat": 4,
 "nbformat_minor": 5
}
