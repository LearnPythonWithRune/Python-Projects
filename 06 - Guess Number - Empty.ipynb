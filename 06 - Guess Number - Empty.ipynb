{
 "cells": [
  {
   "cell_type": "markdown",
   "id": "1a1c8d74",
   "metadata": {},
   "source": [
    "# Project - Guess Number\n",
    "\n",
    "### The game\n",
    "\n",
    "- The computer generates a random number from 1 to 100.\n",
    "- The user should guess it.\n",
    "- If the user guesses correct, it should print how many guesses the user used and end.\n",
    "- If the user guesses too low, print it.\n",
    "- If the user guesses too big, print it."
   ]
  },
  {
   "cell_type": "code",
   "execution_count": null,
   "id": "193e76e1",
   "metadata": {},
   "outputs": [],
   "source": []
  },
  {
   "cell_type": "code",
   "execution_count": null,
   "id": "e03f5bcb",
   "metadata": {},
   "outputs": [],
   "source": []
  }
 ],
 "metadata": {
  "kernelspec": {
   "display_name": "Python 3 (ipykernel)",
   "language": "python",
   "name": "python3"
  },
  "language_info": {
   "codemirror_mode": {
    "name": "ipython",
    "version": 3
   },
   "file_extension": ".py",
   "mimetype": "text/x-python",
   "name": "python",
   "nbconvert_exporter": "python",
   "pygments_lexer": "ipython3",
   "version": "3.9.13"
  }
 },
 "nbformat": 4,
 "nbformat_minor": 5
}
