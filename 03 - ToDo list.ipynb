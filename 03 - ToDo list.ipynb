{
 "cells": [
  {
   "cell_type": "markdown",
   "id": "5240d3df",
   "metadata": {},
   "source": [
    "# Project: ToDo list\n",
    "\n",
    "### Description\n",
    "\n",
    "The program you write can do 4 things.\n",
    "1. It can show the content of your ToDo list\n",
    "2. It can add an item to your ToDo list\n",
    "3. It can remove an item from your ToDo list\n",
    "4. It can quit the program"
   ]
  },
  {
   "cell_type": "code",
   "execution_count": null,
   "id": "7e61562c",
   "metadata": {},
   "outputs": [],
   "source": []
  },
  {
   "cell_type": "code",
   "execution_count": null,
   "id": "609ceeee",
   "metadata": {},
   "outputs": [],
   "source": []
  }
 ],
 "metadata": {
  "kernelspec": {
   "display_name": "Python 3 (ipykernel)",
   "language": "python",
   "name": "python3"
  },
  "language_info": {
   "codemirror_mode": {
    "name": "ipython",
    "version": 3
   },
   "file_extension": ".py",
   "mimetype": "text/x-python",
   "name": "python",
   "nbconvert_exporter": "python",
   "pygments_lexer": "ipython3",
   "version": "3.9.13"
  }
 },
 "nbformat": 4,
 "nbformat_minor": 5
}
