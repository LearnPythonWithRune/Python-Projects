{
 "cells": [
  {
   "cell_type": "markdown",
   "id": "f7ded33f",
   "metadata": {},
   "source": [
    "# Acronym Generator\n",
    "\n",
    "An acronym is a word created by combining the first letter or syllable of each word in a phrase to create a new, single word. Here are a few examples of popular acronyms:\n",
    "\n",
    "* **FOMO** fear of missing out\n",
    "* **GIF** graphics interchange format\n",
    "* **PIN** personal identification number\n",
    "\n",
    "Create an acronym generator."
   ]
  },
  {
   "cell_type": "code",
   "execution_count": null,
   "id": "f08b844b",
   "metadata": {},
   "outputs": [],
   "source": []
  }
 ],
 "metadata": {
  "kernelspec": {
   "display_name": "Python 3 (ipykernel)",
   "language": "python",
   "name": "python3"
  },
  "language_info": {
   "codemirror_mode": {
    "name": "ipython",
    "version": 3
   },
   "file_extension": ".py",
   "mimetype": "text/x-python",
   "name": "python",
   "nbconvert_exporter": "python",
   "pygments_lexer": "ipython3",
   "version": "3.9.13"
  }
 },
 "nbformat": 4,
 "nbformat_minor": 5
}
