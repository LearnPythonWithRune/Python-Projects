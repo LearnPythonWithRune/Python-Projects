{
 "cells": [
  {
   "cell_type": "markdown",
   "id": "0ebc369f",
   "metadata": {},
   "source": [
    "# Project - Simple Calculator\n",
    "\n",
    "In this projects you will create a simple calculator.\n",
    "\n",
    "The calculator will take input from the user and create the calculation.\n",
    "\n",
    "It will only accept postive integer input with one operator. \n",
    "\n",
    "Examples valid input.\n",
    "- `1+4`\n",
    "- `6*10`\n",
    "- `100-90`\n",
    "- `1000/50`\n",
    "\n",
    "Examples of invalid input.\n",
    "- `1+2+3`\n",
    "- `1/3*6`\n",
    "- `-10/3`\n",
    "- `10*-1`"
   ]
  },
  {
   "cell_type": "markdown",
   "id": "5f794b79",
   "metadata": {},
   "source": [
    "### Design choices\n",
    "\n",
    "When a developer gets a task, often there are things not specified.\n",
    "\n",
    "Examples\n",
    "- What happens if user inputs data in wrong format (invalid input)?\n",
    "- How should it output the result data?\n",
    "\n",
    "### What to do?\n",
    "\n",
    "- Sometimes you can clarify these issues with the user.\n",
    "- Othertimes you can make choices based on your knowledge or best guesses.\n",
    "\n",
    "When to do what?\n",
    "- Who is the user or owner of the code you develop?\n",
    "- How big impact does the decision have?"
   ]
  },
  {
   "cell_type": "code",
   "execution_count": null,
   "id": "d0fa593a",
   "metadata": {},
   "outputs": [],
   "source": []
  }
 ],
 "metadata": {
  "kernelspec": {
   "display_name": "Python 3 (ipykernel)",
   "language": "python",
   "name": "python3"
  },
  "language_info": {
   "codemirror_mode": {
    "name": "ipython",
    "version": 3
   },
   "file_extension": ".py",
   "mimetype": "text/x-python",
   "name": "python",
   "nbconvert_exporter": "python",
   "pygments_lexer": "ipython3",
   "version": "3.9.13"
  }
 },
 "nbformat": 4,
 "nbformat_minor": 5
}
