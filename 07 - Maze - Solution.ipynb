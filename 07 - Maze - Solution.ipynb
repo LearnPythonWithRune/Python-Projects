{
 "cells": [
  {
   "cell_type": "markdown",
   "id": "626f5e88",
   "metadata": {},
   "source": [
    "# Project - Maze\n",
    "\n",
    "### The Game\n",
    "\n",
    "You will create a maze.\n",
    "\n",
    "The best way to understand this is to first see the end result (in video).\n",
    "\n",
    "Then we break it down in steps."
   ]
  },
  {
   "cell_type": "markdown",
   "id": "2c6499f1",
   "metadata": {},
   "source": [
    "### Details\n",
    "\n",
    "You will use a IPyhon library from the Notebook to clear the ouput.\n",
    "\n",
    "```Python\n",
    "from IPython.display import clear_output\n",
    "```\n",
    "\n",
    "### The Maze\n",
    "The maze will be represented as follows.\n",
    "\n",
    "```Python\n",
    "maze = [\n",
    "    list('######################'),\n",
    "    list('#### ###   #   # ### #'),\n",
    "    list('# #   ## # # #     #  '),\n",
    "    list('# # #    #   ##### # #'),\n",
    "    list('# # # ########   # # #'),\n",
    "    list('# # #      #   # # # #'),\n",
    "    list('#   # ## #   #   #   #'),\n",
    "    list('######################'),\n",
    "]\n",
    "```\n",
    "\n",
    "The walls are `#` and the player can walk in the spaces and need to find a way out."
   ]
  },
  {
   "cell_type": "code",
   "execution_count": 1,
   "id": "21b558b5",
   "metadata": {},
   "outputs": [],
   "source": [
    "from IPython.display import clear_output"
   ]
  },
  {
   "cell_type": "code",
   "execution_count": 16,
   "id": "a1903f50",
   "metadata": {},
   "outputs": [
    {
     "name": "stdout",
     "output_type": "stream",
     "text": [
      "You finished\n"
     ]
    }
   ],
   "source": [
    "maze = [\n",
    "    list('######################'),\n",
    "    list('#### ###   #   # ### #'),\n",
    "    list('# #   ## # # #     #  '),\n",
    "    list('# # #    #   ##### # #'),\n",
    "    list('# # # ########   # # #'),\n",
    "    list('# # #      #   # # # #'),\n",
    "    list('#   # ## #   #   #   #'),\n",
    "    list('######################'),\n",
    "]\n",
    "\n",
    "x = 2\n",
    "y = 1\n",
    "\n",
    "while True:\n",
    "    print('###' + maze[x-1][y]*3 + '###')\n",
    "    print('###' + maze[x-1][y]*3 + '###')\n",
    "    print(maze[x][y-1]*3 + ' o ' + maze[x][y+1]*3)\n",
    "    print('###' + maze[x+1][y]*3 + '###')\n",
    "    print('###' + maze[x+1][y]*3 + '###')\n",
    "    \n",
    "    move = input('w: up, s: down, a: left, d:right (h: map) - ')\n",
    "    clear_output()\n",
    "    \n",
    "    if move == 'w':  # up\n",
    "        if maze[x - 1][y] == '#':\n",
    "            print('Illegal move')\n",
    "        else:\n",
    "            x -= 1\n",
    "    elif move == 's':  # down\n",
    "        if maze[x + 1][y] == '#':\n",
    "            print('Illegal move')\n",
    "        else:\n",
    "            x += 1\n",
    "    elif move == 'a':  # left\n",
    "        if maze[x][y - 1] == '#':\n",
    "            print('Illegal move')\n",
    "        else:\n",
    "            y -= 1\n",
    "    elif move == 'd':  # right\n",
    "        if maze[x][y + 1] == '#':\n",
    "            print('Illegal move')\n",
    "        else:\n",
    "            y += 1\n",
    "    elif move == 'h':  # show map\n",
    "        maze[x][y] = 'o'\n",
    "        for row in maze:\n",
    "            print(''.join(row))\n",
    "        maze[x][y] = ' '\n",
    "        input('Press enter to continue')\n",
    "        clear_output()\n",
    "    elif move == 'q':  # quit\n",
    "        break\n",
    "    else:\n",
    "        print('Unknown move')\n",
    "        \n",
    "    if y == len(maze[0]) - 1:\n",
    "        print('You finished')\n",
    "        break"
   ]
  },
  {
   "cell_type": "code",
   "execution_count": 4,
   "id": "7b8a23fc",
   "metadata": {},
   "outputs": [
    {
     "data": {
      "text/plain": [
       "' '"
      ]
     },
     "execution_count": 4,
     "metadata": {},
     "output_type": "execute_result"
    }
   ],
   "source": [
    "maze[2][1]"
   ]
  },
  {
   "cell_type": "code",
   "execution_count": 11,
   "id": "e59be79a",
   "metadata": {},
   "outputs": [
    {
     "data": {
      "text/plain": [
       "'# #'"
      ]
     },
     "execution_count": 11,
     "metadata": {},
     "output_type": "execute_result"
    }
   ],
   "source": [
    "''.join(['#', ' ', '#'])"
   ]
  },
  {
   "cell_type": "code",
   "execution_count": null,
   "id": "b47b81fb",
   "metadata": {},
   "outputs": [],
   "source": []
  },
  {
   "cell_type": "code",
   "execution_count": null,
   "id": "3b7834f0",
   "metadata": {},
   "outputs": [],
   "source": []
  },
  {
   "cell_type": "code",
   "execution_count": null,
   "id": "8d2fbfeb",
   "metadata": {},
   "outputs": [],
   "source": []
  }
 ],
 "metadata": {
  "kernelspec": {
   "display_name": "Python 3 (ipykernel)",
   "language": "python",
   "name": "python3"
  },
  "language_info": {
   "codemirror_mode": {
    "name": "ipython",
    "version": 3
   },
   "file_extension": ".py",
   "mimetype": "text/x-python",
   "name": "python",
   "nbconvert_exporter": "python",
   "pygments_lexer": "ipython3",
   "version": "3.9.13"
  }
 },
 "nbformat": 4,
 "nbformat_minor": 5
}
