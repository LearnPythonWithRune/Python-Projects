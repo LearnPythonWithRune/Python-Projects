{
 "cells": [
  {
   "cell_type": "markdown",
   "id": "e1c9a65b",
   "metadata": {},
   "source": [
    "# Project ELIZA\n",
    "\n",
    "### How ELIZA works?\n",
    "\n",
    "It looks for simple patterns and substitutes to give the illution of understanding from the computer ([wiki](https://en.wikipedia.org/wiki/ELIZA))\n",
    "\n",
    "#### Example\n",
    "- You write `I need cake` it can look for pattern `I need *`\n",
    "- Then it can ask `Why do you need cake?`\n",
    "\n",
    "#### Example\n",
    "```\n",
    "What do you need? I need cake\n",
    "Why do you need cake? because I am hungry\n",
    "Why are you hungry? because it makes me less irritated\n",
    "Why are you irritated? because I need to avoid low blood sugar\n",
    "Why do you need to avoid low blood sugar? because I need a reward\n",
    "Why do you need a reward? because I was good\n",
    "Why are you good? because I need to learn Python\n",
    "Why do you need to learn Python? because I need a job\n",
    "Why do you need a job? quit\n",
    "```"
   ]
  },
  {
   "cell_type": "code",
   "execution_count": null,
   "id": "dc420f03",
   "metadata": {},
   "outputs": [],
   "source": [
    "eliza_response = 'What do you need?'\n",
    "\n",
    "while True:\n",
    "    s = input(eliza_response + ' ')\n",
    "\n",
    "    if 'I need ' in s:\n",
    "        your_need = s.split('I need ')[-1]\n",
    "        eliza_response = 'Why do you need ' + your_need + '?'\n",
    "    elif 'because' in s:\n",
    "        your_cause = s.split()[-1]\n",
    "        eliza_response = 'Why are you ' + your_cause + '?'\n",
    "    \n",
    "        \n",
    "    elif s == 'quit':\n",
    "        break\n",
    "    else:\n",
    "        eliza_response = 'Can you tell me why?'"
   ]
  },
  {
   "cell_type": "code",
   "execution_count": null,
   "id": "45f8e37c",
   "metadata": {},
   "outputs": [],
   "source": []
  }
 ],
 "metadata": {
  "kernelspec": {
   "display_name": "Python 3 (ipykernel)",
   "language": "python",
   "name": "python3"
  },
  "language_info": {
   "codemirror_mode": {
    "name": "ipython",
    "version": 3
   },
   "file_extension": ".py",
   "mimetype": "text/x-python",
   "name": "python",
   "nbconvert_exporter": "python",
   "pygments_lexer": "ipython3",
   "version": "3.9.13"
  }
 },
 "nbformat": 4,
 "nbformat_minor": 5
}
