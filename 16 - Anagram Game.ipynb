{
 "cells": [
  {
   "cell_type": "markdown",
   "id": "14982501",
   "metadata": {},
   "source": [
    "# Anagram Game\n",
    "\n",
    "\n",
    "### What is an Anagram?\n",
    "An anagram of a word is another word obtained by shuffling its letters.\n",
    "\n",
    "#### Example\n",
    "`race` and `care` are anagrams of each other.\n",
    "\n",
    "### What to do\n",
    "Create a program which will show the anagram of any word the user input. The user should guess it.\n",
    "\n",
    "Here are a few words you can use.\n",
    "\n",
    "```Python\n",
    "words = [\n",
    "    'atrocity',\n",
    "    'fanatical',\n",
    "    'pensive',\n",
    "    'respite',\n",
    "    'discordant',\n",
    "    'eloquent',\n",
    "    'encompass',\n",
    "    'imperceptible',\n",
    "    'insuperable',\n",
    "    'stealthily',\n",
    "    'impassive',\n",
    "    'preoccupied'\n",
    "]\n",
    "```"
   ]
  },
  {
   "cell_type": "code",
   "execution_count": 1,
   "id": "00730396",
   "metadata": {},
   "outputs": [],
   "source": [
    "import random"
   ]
  },
  {
   "cell_type": "code",
   "execution_count": 13,
   "id": "0e921bfd",
   "metadata": {},
   "outputs": [
    {
     "name": "stdout",
     "output_type": "stream",
     "text": [
      "tiatocry atrocity\n",
      "foo\n",
      "tiatocry atrocity\n",
      "atrocity\n",
      "correct\n"
     ]
    }
   ],
   "source": [
    "words = [\n",
    "    'atrocity',\n",
    "    'fanatical',\n",
    "    'pensive',\n",
    "    'respite',\n",
    "    'discordant',\n",
    "    'eloquent',\n",
    "    'encompass',\n",
    "    'imperceptible',\n",
    "    'insuperable',\n",
    "    'stealthily',\n",
    "    'impassive',\n",
    "    'preoccupied'\n",
    "]\n",
    "\n",
    "word = random.choice(words)\n",
    "letters = list(word)\n",
    "random.shuffle(letters)\n",
    "shuffled = ''.join(letters)\n",
    "    \n",
    "while True:    \n",
    "    print(shuffled)\n",
    "    guess = input()\n",
    "    \n",
    "    if guess == word:\n",
    "        print('correct')\n",
    "        break\n"
   ]
  }
 ],
 "metadata": {
  "kernelspec": {
   "display_name": "Python 3 (ipykernel)",
   "language": "python",
   "name": "python3"
  },
  "language_info": {
   "codemirror_mode": {
    "name": "ipython",
    "version": 3
   },
   "file_extension": ".py",
   "mimetype": "text/x-python",
   "name": "python",
   "nbconvert_exporter": "python",
   "pygments_lexer": "ipython3",
   "version": "3.9.13"
  }
 },
 "nbformat": 4,
 "nbformat_minor": 5
}
