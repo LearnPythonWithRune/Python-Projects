{
 "cells": [
  {
   "cell_type": "markdown",
   "id": "1a1c8d74",
   "metadata": {},
   "source": [
    "# Project - Guess Number\n",
    "\n",
    "### The game\n",
    "\n",
    "- The computer generates a random number from 1 to 100.\n",
    "- The user should guess it.\n",
    "- If the user guesses correct, it should print how many guesses the user used and end.\n",
    "- If the user guesses too low, print it.\n",
    "- If the user guesses too big, print it."
   ]
  },
  {
   "cell_type": "code",
   "execution_count": 1,
   "id": "193e76e1",
   "metadata": {},
   "outputs": [],
   "source": [
    "from random import randrange"
   ]
  },
  {
   "cell_type": "code",
   "execution_count": 5,
   "id": "e03f5bcb",
   "metadata": {},
   "outputs": [
    {
     "name": "stdout",
     "output_type": "stream",
     "text": [
      "I'm thinking of a number between 1 and 100 (both inclusive)\n",
      "What is your guess (1-100): 50\n",
      "Too low\n",
      "What is your guess (1-100): 75\n",
      "Too high\n",
      "What is your guess (1-100): 63\n",
      "Too high\n",
      "What is your guess (1-100): 55\n",
      "Too low\n",
      "What is your guess (1-100): 60\n",
      "Too high\n",
      "What is your guess (1-100): 57\n",
      "Too low\n",
      "What is your guess (1-100): 58\n",
      "Awesome! You guesses it!\n",
      "You used 7 guesses\n"
     ]
    }
   ],
   "source": [
    "random_number = randrange(100) + 1\n",
    "\n",
    "guesses = 0\n",
    "\n",
    "print(\"I'm thinking of a number between 1 and 100 (both inclusive)\")\n",
    "\n",
    "while True:\n",
    "    guess_str = input('What is your guess (1-100): ')\n",
    "    guess = int(guess_str)\n",
    "    \n",
    "    if guess < 1:\n",
    "        print('Out of bound')\n",
    "        continue\n",
    "        \n",
    "    if guess > 100:\n",
    "        print('Out of bound')\n",
    "        continue\n",
    "        \n",
    "    guesses += 1\n",
    "    \n",
    "    if guess == random_number:\n",
    "        print('Awesome! You guesses it!')\n",
    "        print('You used', guesses, 'guesses')\n",
    "        break\n",
    "        \n",
    "    elif guess < random_number:\n",
    "        print('Too low')\n",
    "    elif guess > random_number:\n",
    "        print('Too high')"
   ]
  },
  {
   "cell_type": "code",
   "execution_count": 3,
   "id": "cb74edc9",
   "metadata": {},
   "outputs": [
    {
     "data": {
      "text/plain": [
       "21"
      ]
     },
     "execution_count": 3,
     "metadata": {},
     "output_type": "execute_result"
    }
   ],
   "source": [
    "random_number"
   ]
  },
  {
   "cell_type": "code",
   "execution_count": null,
   "id": "a5dbb289",
   "metadata": {},
   "outputs": [],
   "source": []
  }
 ],
 "metadata": {
  "kernelspec": {
   "display_name": "Python 3 (ipykernel)",
   "language": "python",
   "name": "python3"
  },
  "language_info": {
   "codemirror_mode": {
    "name": "ipython",
    "version": 3
   },
   "file_extension": ".py",
   "mimetype": "text/x-python",
   "name": "python",
   "nbconvert_exporter": "python",
   "pygments_lexer": "ipython3",
   "version": "3.9.13"
  }
 },
 "nbformat": 4,
 "nbformat_minor": 5
}
