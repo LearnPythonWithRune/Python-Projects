{
 "cells": [
  {
   "cell_type": "markdown",
   "id": "33c2d13e",
   "metadata": {},
   "source": [
    "# Project: LEET\n",
    "\n",
    "Leet (or \"1337\"), also known as eleet or leetspeak, is a system of modified spellings used primarily on the Internet. ([wiki](https://en.wikipedia.org/wiki/Leet))\n",
    "\n",
    "### Project description\n",
    "- We take a input string from the user and convert it to a simplified leet.\n",
    "\n",
    "### Simplified leet\n",
    "- We will only convert some letters.\n",
    "\n",
    "#### Leet table\n",
    "\n",
    "| letter | leet |\n",
    "| --- | --- |\n",
    "| A | 4 |\n",
    "| E | 3 |\n",
    "| I | 1 |\n",
    "| L | 1 |\n",
    "| O | 0 |\n",
    "| S | 5 |\n",
    "| T | 7 |\n",
    "\n",
    "#### Example\n",
    "- `'TAKE ME TO ANOTHER LEVEL'` → `'74K3 M3 70 4N07H3R 13V31'`"
   ]
  },
  {
   "cell_type": "code",
   "execution_count": null,
   "id": "84f34a67",
   "metadata": {},
   "outputs": [],
   "source": []
  }
 ],
 "metadata": {
  "kernelspec": {
   "display_name": "Python 3 (ipykernel)",
   "language": "python",
   "name": "python3"
  },
  "language_info": {
   "codemirror_mode": {
    "name": "ipython",
    "version": 3
   },
   "file_extension": ".py",
   "mimetype": "text/x-python",
   "name": "python",
   "nbconvert_exporter": "python",
   "pygments_lexer": "ipython3",
   "version": "3.9.13"
  }
 },
 "nbformat": 4,
 "nbformat_minor": 5
}
