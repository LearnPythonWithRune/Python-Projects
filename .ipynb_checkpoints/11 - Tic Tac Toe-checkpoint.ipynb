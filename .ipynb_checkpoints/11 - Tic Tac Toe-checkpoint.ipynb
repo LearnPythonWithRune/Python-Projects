{
 "cells": [
  {
   "cell_type": "markdown",
   "id": "2f2f4db7",
   "metadata": {},
   "source": [
    "# Milestone Project - Tic Tac Toe\n",
    "\n",
    "### The goal of the project\n",
    "\n",
    "- To create a Tic Tac Toe\n",
    "- The user will be player `O` and the computer `X`\n",
    "- In the simple version the player `O` always start."
   ]
  },
  {
   "cell_type": "code",
   "execution_count": null,
   "id": "a46a6850",
   "metadata": {},
   "outputs": [],
   "source": []
  }
 ],
 "metadata": {
  "kernelspec": {
   "display_name": "Python 3 (ipykernel)",
   "language": "python",
   "name": "python3"
  },
  "language_info": {
   "codemirror_mode": {
    "name": "ipython",
    "version": 3
   },
   "file_extension": ".py",
   "mimetype": "text/x-python",
   "name": "python",
   "nbconvert_exporter": "python",
   "pygments_lexer": "ipython3",
   "version": "3.9.13"
  }
 },
 "nbformat": 4,
 "nbformat_minor": 5
}
