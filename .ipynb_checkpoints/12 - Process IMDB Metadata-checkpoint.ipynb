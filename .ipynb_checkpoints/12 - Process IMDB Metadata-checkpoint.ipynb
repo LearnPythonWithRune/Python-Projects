{
 "cells": [
  {
   "cell_type": "markdown",
   "id": "910fdfde",
   "metadata": {},
   "source": [
    "# Project - Process IMDB Data\n",
    "\n",
    "The file `movie_metadata.csv` contains over 5000 rows of data from IMDB.\n",
    "\n",
    "There is more metadata (data about data) than needed. The job is to process it and create a new `csv` file with less metadata and only for movies rated above `imdb_score` 7."
   ]
  },
  {
   "cell_type": "code",
   "execution_count": null,
   "id": "90c5f69c",
   "metadata": {},
   "outputs": [],
   "source": []
  }
 ],
 "metadata": {
  "kernelspec": {
   "display_name": "Python 3 (ipykernel)",
   "language": "python",
   "name": "python3"
  },
  "language_info": {
   "codemirror_mode": {
    "name": "ipython",
    "version": 3
   },
   "file_extension": ".py",
   "mimetype": "text/x-python",
   "name": "python",
   "nbconvert_exporter": "python",
   "pygments_lexer": "ipython3",
   "version": "3.9.13"
  }
 },
 "nbformat": 4,
 "nbformat_minor": 5
}
