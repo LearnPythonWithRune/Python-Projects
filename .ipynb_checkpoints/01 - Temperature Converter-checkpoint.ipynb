{
 "cells": [
  {
   "cell_type": "markdown",
   "id": "b103ff7b",
   "metadata": {},
   "source": [
    "# Project Converter\n",
    "\n",
    "Create a converter from fahrenheit to celcius using the formula\n",
    "\n",
    "$$ °C = (°F − 32) \\times 5/9 $$\n",
    "\n",
    "#### Project\n",
    "- Prompt the user for temperature in Fahrenheit\n",
    "- Calculate the tempearure in Celcius\n",
    "- Print the result\n",
    "\n",
    "#### Examples\n",
    "- `75` → `23.89`"
   ]
  },
  {
   "cell_type": "code",
   "execution_count": null,
   "id": "3a301b29",
   "metadata": {},
   "outputs": [],
   "source": []
  }
 ],
 "metadata": {
  "kernelspec": {
   "display_name": "Python 3 (ipykernel)",
   "language": "python",
   "name": "python3"
  },
  "language_info": {
   "codemirror_mode": {
    "name": "ipython",
    "version": 3
   },
   "file_extension": ".py",
   "mimetype": "text/x-python",
   "name": "python",
   "nbconvert_exporter": "python",
   "pygments_lexer": "ipython3",
   "version": "3.9.13"
  }
 },
 "nbformat": 4,
 "nbformat_minor": 5
}
