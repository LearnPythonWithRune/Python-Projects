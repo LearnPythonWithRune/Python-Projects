{
 "cells": [
  {
   "cell_type": "markdown",
   "id": "0de9df64",
   "metadata": {},
   "source": [
    "# Project Store\n",
    "\n",
    "You will start to sell items from your awesome store.\n",
    "\n",
    "### Project\n",
    "\n",
    "You count items sold, i.e. if you sell the three following items.\n",
    "1. `apple`\n",
    "2. `pear`\n",
    "3. `orange`\n",
    "\n",
    "To keep track of how many items you sell, you can use a dictionary.\n",
    "\n",
    "The dictionary can use the items as keys, and the number of sold items as the value.\n",
    "\n",
    "```Python\n",
    "sold_items = {'apple': 0}\n",
    "```\n",
    "\n",
    "Create the following.\n",
    "- Use a dicitonary to keep track of sold items.\n",
    "- Create a user prompt to sell items.\n",
    "- Create a status view of items solds."
   ]
  },
  {
   "cell_type": "code",
   "execution_count": 1,
   "id": "fee6de78",
   "metadata": {},
   "outputs": [],
   "source": [
    "sold_items = {}"
   ]
  },
  {
   "cell_type": "code",
   "execution_count": 19,
   "id": "c1803142",
   "metadata": {},
   "outputs": [
    {
     "name": "stdout",
     "output_type": "stream",
     "text": [
      "What do you want to buy? apple\n",
      "How many do you want? 2\n"
     ]
    }
   ],
   "source": [
    "# prompt the user\n",
    "item = input('What do you want to buy? ')\n",
    "number_str = input('How many do you want? ')\n",
    "number = int(number_str)\n",
    "\n",
    "sold_items[item] = sold_items.get(item, 0) + number"
   ]
  },
  {
   "cell_type": "code",
   "execution_count": 15,
   "id": "9fbdbb10",
   "metadata": {},
   "outputs": [
    {
     "data": {
      "text/plain": [
       "{'apple': 28, 'orange': 30}"
      ]
     },
     "execution_count": 15,
     "metadata": {},
     "output_type": "execute_result"
    }
   ],
   "source": [
    "sold_items"
   ]
  },
  {
   "cell_type": "code",
   "execution_count": 20,
   "id": "aa1aa164",
   "metadata": {},
   "outputs": [
    {
     "name": "stdout",
     "output_type": "stream",
     "text": [
      "apple 30\n",
      "orange 30\n",
      "pear 61\n"
     ]
    }
   ],
   "source": [
    "# status\n",
    "\n",
    "for item, number in sold_items.items():\n",
    "    print(item, number)"
   ]
  },
  {
   "cell_type": "code",
   "execution_count": null,
   "id": "24f66dd7",
   "metadata": {},
   "outputs": [],
   "source": []
  }
 ],
 "metadata": {
  "kernelspec": {
   "display_name": "Python 3 (ipykernel)",
   "language": "python",
   "name": "python3"
  },
  "language_info": {
   "codemirror_mode": {
    "name": "ipython",
    "version": 3
   },
   "file_extension": ".py",
   "mimetype": "text/x-python",
   "name": "python",
   "nbconvert_exporter": "python",
   "pygments_lexer": "ipython3",
   "version": "3.9.13"
  }
 },
 "nbformat": 4,
 "nbformat_minor": 5
}
