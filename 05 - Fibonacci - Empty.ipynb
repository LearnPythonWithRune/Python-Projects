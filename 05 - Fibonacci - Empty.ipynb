{
 "cells": [
  {
   "cell_type": "markdown",
   "id": "696294e9",
   "metadata": {},
   "source": [
    "# Fibonacci\n",
    "\n",
    "The Fibonacci sequence is as follows.\n",
    "\n",
    "`0 1 1 2 3 5 8 13 21 34 ...` (continues)\n",
    "\n",
    "It is generated as follows.\n",
    "\n",
    "The next number is genrated by adding the two last numbers.\n",
    "\n",
    "```\n",
    "0 + 1 = 1\n",
    "1 + 1 = 2\n",
    "1 + 2 = 3\n",
    "2 + 3 = 5\n",
    "3 + 5 = 8\n",
    "8 + 13 = 21\n",
    "13 + 21 = 34\n",
    "21 + 34 = 55\n",
    "...\n",
    "```\n",
    "\n",
    "Write a program that prints the Fibonacci sequence."
   ]
  },
  {
   "cell_type": "code",
   "execution_count": null,
   "id": "87d89dc8",
   "metadata": {},
   "outputs": [],
   "source": []
  },
  {
   "cell_type": "code",
   "execution_count": null,
   "id": "766c6dfa",
   "metadata": {},
   "outputs": [],
   "source": []
  },
  {
   "cell_type": "code",
   "execution_count": null,
   "id": "a708c2e9",
   "metadata": {},
   "outputs": [],
   "source": []
  }
 ],
 "metadata": {
  "kernelspec": {
   "display_name": "Python 3 (ipykernel)",
   "language": "python",
   "name": "python3"
  },
  "language_info": {
   "codemirror_mode": {
    "name": "ipython",
    "version": 3
   },
   "file_extension": ".py",
   "mimetype": "text/x-python",
   "name": "python",
   "nbconvert_exporter": "python",
   "pygments_lexer": "ipython3",
   "version": "3.9.13"
  }
 },
 "nbformat": 4,
 "nbformat_minor": 5
}
