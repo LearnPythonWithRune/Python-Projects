{
 "cells": [
  {
   "cell_type": "markdown",
   "id": "626f5e88",
   "metadata": {},
   "source": [
    "# Project - Maze\n",
    "\n",
    "### The Game\n",
    "\n",
    "You will create a maze.\n",
    "\n",
    "The best way to understand this is to first see the end result (in video).\n",
    "\n",
    "Then we break it down in steps."
   ]
  },
  {
   "cell_type": "markdown",
   "id": "2c6499f1",
   "metadata": {},
   "source": [
    "### Details\n",
    "\n",
    "You will use a IPyhon library from the Notebook to clear the ouput.\n",
    "\n",
    "```Python\n",
    "from IPython.display import clear_output\n",
    "```\n",
    "\n",
    "### The Maze\n",
    "The maze will be represented as follows.\n",
    "\n",
    "```Python\n",
    "maze = [\n",
    "    list('######################'),\n",
    "    list('#### ###   #   # ### #'),\n",
    "    list('# #   ## # # #     #  '),\n",
    "    list('# # #    #   ##### # #'),\n",
    "    list('# # # ########   # # #'),\n",
    "    list('# # #      #   # # # #'),\n",
    "    list('#   # ## #   #   #   #'),\n",
    "    list('######################'),\n",
    "]\n",
    "```\n",
    "\n",
    "The walls are `#` and the player can walk in the spaces and need to find a way out."
   ]
  },
  {
   "cell_type": "code",
   "execution_count": null,
   "id": "21b558b5",
   "metadata": {},
   "outputs": [],
   "source": []
  }
 ],
 "metadata": {
  "kernelspec": {
   "display_name": "Python 3 (ipykernel)",
   "language": "python",
   "name": "python3"
  },
  "language_info": {
   "codemirror_mode": {
    "name": "ipython",
    "version": 3
   },
   "file_extension": ".py",
   "mimetype": "text/x-python",
   "name": "python",
   "nbconvert_exporter": "python",
   "pygments_lexer": "ipython3",
   "version": "3.9.13"
  }
 },
 "nbformat": 4,
 "nbformat_minor": 5
}
