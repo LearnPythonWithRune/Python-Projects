{
 "cells": [
  {
   "cell_type": "markdown",
   "id": "44cfd3c8",
   "metadata": {},
   "source": [
    "# Project - Head or Tails\n",
    "\n",
    "This is a simple project to create, but we need to learn to work with functions.\n",
    "\n",
    "You should build a guessing game of a head or tails.\n",
    "\n",
    "Game description.\n",
    "1. The user is asked to guess `head` or `tails`\n",
    "2. The game will \"flip\" a coin to either `head` or `tails`.\n",
    "3. The game will write if the user guessed correct or not.\n",
    "\n",
    "Your goal is not to write the code, it is to use functions to create it.\n",
    "\n",
    "Note: *An advantage of writing functions is that it enables you to test it isolated.*"
   ]
  },
  {
   "cell_type": "code",
   "execution_count": null,
   "id": "6b209f25",
   "metadata": {},
   "outputs": [],
   "source": []
  }
 ],
 "metadata": {
  "kernelspec": {
   "display_name": "Python 3 (ipykernel)",
   "language": "python",
   "name": "python3"
  },
  "language_info": {
   "codemirror_mode": {
    "name": "ipython",
    "version": 3
   },
   "file_extension": ".py",
   "mimetype": "text/x-python",
   "name": "python",
   "nbconvert_exporter": "python",
   "pygments_lexer": "ipython3",
   "version": "3.9.13"
  }
 },
 "nbformat": 4,
 "nbformat_minor": 5
}
