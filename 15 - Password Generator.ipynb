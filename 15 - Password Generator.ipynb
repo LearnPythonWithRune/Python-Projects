{
 "cells": [
  {
   "cell_type": "markdown",
   "id": "aee95cd3",
   "metadata": {},
   "source": [
    "# Password Generator\n",
    "\n",
    "Create a password generator.\n",
    "\n",
    "The password should in this format (with a dash `-` every 4th character).\n",
    "\n",
    "- `vr)5-x?C(-8FNh-SkfD`\n",
    "\n",
    "The password should have:\n",
    "- at least one lowercase character: `abcdefghijklmnopqrstuvwxyz`\n",
    "- at least one uppercase character: `ABCDEFGHIJKLMNOPQRSTUVWXYZ`\n",
    "- at least one decimal: `01234567890`\n",
    "- at least one special character: `!@#$%^&*()?`"
   ]
  },
  {
   "cell_type": "code",
   "execution_count": 3,
   "id": "b2f5448c",
   "metadata": {},
   "outputs": [],
   "source": [
    "import random\n",
    "\n"
   ]
  },
  {
   "cell_type": "code",
   "execution_count": 14,
   "id": "95849a29",
   "metadata": {},
   "outputs": [
    {
     "name": "stdout",
     "output_type": "stream",
     "text": [
      "#69R-V9m&-74co-lt8\n"
     ]
    }
   ],
   "source": [
    "def contains(letters, p):\n",
    "    for letter in letters:\n",
    "        if letter in p:\n",
    "            return True\n",
    "        \n",
    "    return False\n",
    "\n",
    "def strong_password(p):\n",
    "    if not contains('abcdefghijklmnopqrstuvwxyz', p):\n",
    "        return False\n",
    "    if not contains('ABCDEFGHIJKLMNOPQRSTUVWXYZ', p):\n",
    "        return False\n",
    "    if not contains('01234567890', p):\n",
    "        return False\n",
    "    if not contains('!@#$%^&*()?', p):\n",
    "        return False\n",
    "    return True\n",
    "\n",
    "assert strong_password('a1B') == False\n",
    "assert strong_password('a1B!') == True\n",
    "\n",
    "while True:\n",
    "    s = \"abcdefghijklmnopqrstuvwxyz01234567890ABCDEFGHIJKLMNOPQRSTUVWXYZ!@#$%^&*()?\"\n",
    "    \n",
    "    p = ''\n",
    "    for _ in range(16):\n",
    "        p += random.choice(s)\n",
    "        \n",
    "    p = p[:4] + '-' + p[4:8] + '-' + p[8:12] + '-' + p[12:]\n",
    "        \n",
    "    if strong_password(p):\n",
    "        print(p[:-1])\n",
    "        break\n",
    "    print('false', p)"
   ]
  },
  {
   "cell_type": "code",
   "execution_count": null,
   "id": "415709b5",
   "metadata": {},
   "outputs": [],
   "source": []
  }
 ],
 "metadata": {
  "kernelspec": {
   "display_name": "Python 3 (ipykernel)",
   "language": "python",
   "name": "python3"
  },
  "language_info": {
   "codemirror_mode": {
    "name": "ipython",
    "version": 3
   },
   "file_extension": ".py",
   "mimetype": "text/x-python",
   "name": "python",
   "nbconvert_exporter": "python",
   "pygments_lexer": "ipython3",
   "version": "3.9.13"
  }
 },
 "nbformat": 4,
 "nbformat_minor": 5
}
